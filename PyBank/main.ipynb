{
 "cells": [
  {
   "cell_type": "code",
   "execution_count": 27,
   "metadata": {},
   "outputs": [],
   "source": [
    "#import pathlib and csv library\n",
    "from pathlib import Path\n",
    "import csv"
   ]
  },
  {
   "cell_type": "code",
   "execution_count": 28,
   "metadata": {},
   "outputs": [],
   "source": [
    "#set the file path\n",
    "csvpath = Path(\"/Resources/budget_data.csv\")"
   ]
  },
  {
   "cell_type": "code",
   "execution_count": 29,
   "metadata": {},
   "outputs": [],
   "source": [
    "#define pybank variables\n",
    "months = []\n",
    "month = ''\n",
    "\n",
    "profitslosses = [] #establishing profits and losses\n",
    "profitloss = 0      #establishing profitloss\n",
    "\n",
    "delta = []    #changes in the profitloss\n",
    "avg_delta = 0    #average of the changes in profitloss\n",
    "\n",
    "#initialize line_num variable\n",
    "line_num = 0"
   ]
  },
  {
   "cell_type": "code",
   "execution_count": 30,
   "metadata": {},
   "outputs": [],
   "source": [
    "#total months\n",
    "with open(csvpath, \"r\") as data_file:\n",
    "    csvreader = csv.reader(data_file, delimiter=',')\n",
    "\n",
    "    header = next(csvreader)\n",
    "    line_num+=1\n",
    "    \n",
    "    for row in csvreader:\n",
    "        month = row[0]\n",
    "\n",
    "        months.append(month)\n",
    "\n",
    "    tot_months = f\"Total Months: {len(months)}\""
   ]
  },
  {
   "cell_type": "code",
   "execution_count": 31,
   "metadata": {},
   "outputs": [],
   "source": [
    "#total amount\n",
    "with open(csvpath, \"r\") as data_file:\n",
    "    csvreader = csv.reader(data_file, delimiter=',')\n",
    "\n",
    "    header = next(csvreader)\n",
    "    line_num+=1\n",
    "\n",
    "    for row in csvreader:\n",
    "        profitloss += int(row[1])\n",
    "\n",
    "    tot_profitloss = profitloss\n"
   ]
  },
  {
   "cell_type": "code",
   "execution_count": 32,
   "metadata": {},
   "outputs": [],
   "source": [
    "#avg of deltas in profitloss\n",
    "with open(csvpath, \"r\") as data_file:\n",
    "    csvreader = csv.reader(data_file, delimiter=',')\n",
    "\n",
    "    header = next(csvreader)\n",
    "    line_num+=1\n",
    "\n",
    "    for row in csvreader:\n",
    "        #profitloss into row 1\n",
    "        profitloss = int(row[1])\n",
    "\n",
    "    #update months list with append\n",
    "        profitslosses.append(profitloss)\n"
   ]
  },
  {
   "cell_type": "code",
   "execution_count": 33,
   "metadata": {},
   "outputs": [],
   "source": [
    "# generate actual_nums through profitslosses list\n",
    "# sourcing data from csv\n",
    "\n",
    "actual_nums = [profitslosses[i+1] - profitslosses[i] for i in range(len(profitslosses)-1)]"
   ]
  },
  {
   "cell_type": "code",
   "execution_count": 34,
   "metadata": {},
   "outputs": [
    {
     "name": "stdout",
     "output_type": "stream",
     "text": [
      "-2315.12\n"
     ]
    }
   ],
   "source": [
    "def Average(lists): #sum of diff in actual_nums / (total changes = 85)\n",
    "    return sum(lists) / len(lists)\n",
    "average = Average(actual_nums)\n",
    "avg_delta = round(average, 2)\n",
    "\n",
    "print(avg_delta)"
   ]
  },
  {
   "cell_type": "code",
   "execution_count": 35,
   "metadata": {},
   "outputs": [],
   "source": [
    "#finding the greatest increase in profits\n",
    "maximum = max(actual_nums)\n",
    "max_index = actual_nums.index(maximum)\n",
    "max_month = max_index + 1"
   ]
  },
  {
   "cell_type": "code",
   "execution_count": 36,
   "metadata": {},
   "outputs": [],
   "source": [
    "#finding the greatest decrease in profits\n",
    "minimum = min(actual_nums)\n",
    "min_index = actual_nums.index(minimum)\n",
    "min_month = min_index + 1"
   ]
  },
  {
   "cell_type": "code",
   "execution_count": 37,
   "metadata": {},
   "outputs": [],
   "source": [
    "#creating the txt file with writing capabilities\n",
    "with open(\"pybank_numbers.txt\", \"w\") as txt_file:\n",
    "    txt_file.write(f\"Financial Analysis\\n\")\n",
    "    txt_file.write(f\"---------------------------\\n\")\n",
    "    txt_file.write(f\"Total Months: {tot_months}\\n\")\n",
    "    txt_file.write(f\"Total: ${tot_profitloss}\\n\")\n",
    "    txt_file.write(f\"Average Change: ${avg_delta}\\n\")\n",
    "    txt_file.write(f\"Greatest Increase in Profits: {months[max_month]} (${maximum})\\n\")\n",
    "    txt_file.write(f\"Greatest Increase in Profits: {months[min_month]} (${minimum})\\n\")"
   ]
  }
 ],
 "metadata": {
  "interpreter": {
   "hash": "1e8fbdd912121b231e02b6268cd60a0af7fc685a38550194c26e544dbe7165ed"
  },
  "kernelspec": {
   "display_name": "Python 3.7.11 ('dev')",
   "language": "python",
   "name": "python3"
  },
  "language_info": {
   "codemirror_mode": {
    "name": "ipython",
    "version": 3
   },
   "file_extension": ".py",
   "mimetype": "text/x-python",
   "name": "python",
   "nbconvert_exporter": "python",
   "pygments_lexer": "ipython3",
   "version": "3.7.11"
  },
  "orig_nbformat": 4
 },
 "nbformat": 4,
 "nbformat_minor": 2
}
